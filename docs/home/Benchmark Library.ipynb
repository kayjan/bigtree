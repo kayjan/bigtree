{
 "cells": [
  {
   "cell_type": "markdown",
   "id": "f67e1961-ba95-4913-868d-e32898b8fd60",
   "metadata": {},
   "source": [
    "# 🧪 Tree Library Benchmark: bigtree vs anytree vs treelib\n",
    "\n",
    "This notebook benchmarks three popular Python libraries used for building and working with tree data structures: **bigtree, anytree, and treelib**. The core functionality being tested is to create a tree from a nested dictionary."
   ]
  },
  {
   "cell_type": "code",
   "execution_count": 1,
   "id": "a5121676-20d5-474c-be4a-dabb025e6707",
   "metadata": {},
   "outputs": [
    {
     "name": "stdout",
     "output_type": "stream",
     "text": [
      "anytree==2.12.1\n",
      "bigtree=1.0.1\n",
      "treelib==1.8.0\n"
     ]
    }
   ],
   "source": [
    "import sys\n",
    "import os\n",
    "import importlib.metadata\n",
    "\n",
    "# Add the project root directory to sys.path\n",
    "project_root = os.path.abspath(os.path.join(os.getcwd(), \"../../\"))\n",
    "if project_root not in sys.path:\n",
    "    sys.path.insert(0, project_root)\n",
    "\n",
    "# Turn off assertions for performance\n",
    "os.environ[\"BIGTREE_CONF_ASSERTIONS\"] = \"\"\n",
    "\n",
    "import anytree\n",
    "import bigtree\n",
    "\n",
    "print(f\"anytree=={anytree.__version__}\")\n",
    "print(f\"bigtree={bigtree.__version__}\",)\n",
    "print(f\"treelib=={importlib.metadata.version('treelib')}\")"
   ]
  },
  {
   "cell_type": "markdown",
   "id": "6dbf671d-ea0c-4cf2-ba8b-ec58ed94854c",
   "metadata": {},
   "source": [
    "## Setup"
   ]
  },
  {
   "cell_type": "code",
   "execution_count": 2,
   "id": "31394f51-f5bc-4ead-882c-13e61322b4b1",
   "metadata": {},
   "outputs": [],
   "source": [
    "import json\n",
    "\n",
    "with open(\"../../assets/docs/cad.json\", \"r\") as f:\n",
    "    tree_data = json.load(f)"
   ]
  },
  {
   "cell_type": "markdown",
   "id": "a014ab18-94ad-4587-a584-24e588d361c2",
   "metadata": {},
   "source": [
    "## Timing: bigtree"
   ]
  },
  {
   "cell_type": "code",
   "execution_count": 3,
   "id": "46e981f3-077d-4a06-9876-b4ccc5237b29",
   "metadata": {},
   "outputs": [],
   "source": [
    "from bigtree import Tree\n",
    "\n",
    "def construct_tree_bigtree(data):\n",
    "    tree = Tree.from_nested_dict(data)\n",
    "    return tree"
   ]
  },
  {
   "cell_type": "code",
   "execution_count": 4,
   "id": "6f7b111c-9460-4a7f-9c03-bf8fc252b4f8",
   "metadata": {},
   "outputs": [
    {
     "name": "stdout",
     "output_type": "stream",
     "text": [
      "574 μs ± 2.68 μs per loop (mean ± std. dev. of 7 runs, 1,000 loops each)\n"
     ]
    }
   ],
   "source": [
    "%%timeit\n",
    "construct_tree_bigtree(tree_data)"
   ]
  },
  {
   "cell_type": "code",
   "execution_count": 5,
   "id": "8dcf2bb8-0f8b-4a0e-94cf-3a726c17633a",
   "metadata": {},
   "outputs": [
    {
     "name": "stdout",
     "output_type": "stream",
     "text": [
      "learning_model_airplane\n",
      "└── learning_model_airplane\n",
      "    └── Default\n",
      "        ├── PartDefinition1\n",
      "        └── FRMFeatureBasedEntity1\n"
     ]
    }
   ],
   "source": [
    "# Preview tree\n",
    "tree_bigtree = construct_tree_bigtree(tree_data)\n",
    "tree_bigtree.show(max_depth=4)"
   ]
  },
  {
   "cell_type": "markdown",
   "id": "a0c6ea49-0d64-4d76-a3bb-8a65f78af7cf",
   "metadata": {},
   "source": [
    "## Timing: anytree"
   ]
  },
  {
   "cell_type": "code",
   "execution_count": 6,
   "id": "3e9ec713-5fc5-4503-9d7c-6bb776f3c37f",
   "metadata": {},
   "outputs": [],
   "source": [
    "from anytree.importer import DictImporter\n",
    "\n",
    "def construct_tree_anytree(data):\n",
    "    importer = DictImporter()\n",
    "    tree = importer.import_(data)\n",
    "    return tree"
   ]
  },
  {
   "cell_type": "code",
   "execution_count": 7,
   "id": "befd115e-72d1-40f4-abc2-1a1ccca3ae93",
   "metadata": {},
   "outputs": [
    {
     "name": "stdout",
     "output_type": "stream",
     "text": [
      "617 μs ± 3.74 μs per loop (mean ± std. dev. of 7 runs, 1,000 loops each)\n"
     ]
    }
   ],
   "source": [
    "%%timeit\n",
    "tree = construct_tree_anytree(tree_data)"
   ]
  },
  {
   "cell_type": "code",
   "execution_count": 8,
   "id": "e7d581fd-41a0-448a-b062-dff04f57c4a0",
   "metadata": {},
   "outputs": [
    {
     "name": "stdout",
     "output_type": "stream",
     "text": [
      "learning_model_airplane\n",
      "└── learning_model_airplane\n",
      "    └── Default\n",
      "        ├── PartDefinition1\n",
      "        └── FRMFeatureBasedEntity1\n"
     ]
    }
   ],
   "source": [
    "# Preview tree\n",
    "from anytree import RenderTree\n",
    "\n",
    "tree = construct_tree_anytree(tree_data)\n",
    "for pre, _, node in RenderTree(tree):\n",
    "    if node.depth < 4:\n",
    "        print(\"%s%s\" % (pre, node.name))"
   ]
  },
  {
   "cell_type": "markdown",
   "id": "8705a7f4-7a04-4dfd-bbea-1e4c4274ff96",
   "metadata": {},
   "source": [
    "## Timing: treelib"
   ]
  },
  {
   "cell_type": "code",
   "execution_count": 9,
   "id": "e0d613ac-cc5a-46b3-929a-3dd771134c85",
   "metadata": {},
   "outputs": [],
   "source": [
    "from treelib import Tree\n",
    "import uuid\n",
    "\n",
    "def construct_from_treelib(data, tree=None, parent=None):\n",
    "    if tree is None:\n",
    "        tree = Tree()\n",
    "\n",
    "    # Generate a unique ID to avoid identifier collisions\n",
    "    node_id = str(uuid.uuid4())\n",
    "\n",
    "    # Extract node label and other attributes\n",
    "    label = data.get(\"name\", \"Unnamed\")\n",
    "    attributes = {k: v for k, v in data.items() if k != \"children\"}\n",
    "\n",
    "    # Add node to the tree\n",
    "    tree.create_node(\n",
    "        tag=label,\n",
    "        identifier=node_id,\n",
    "        parent=parent,\n",
    "        data=attributes,\n",
    "    )\n",
    "\n",
    "    # Recurse into children if they exist\n",
    "    children = data.get(\"children\", [])\n",
    "    for child in children:\n",
    "        construct_from_treelib(child, tree, parent=node_id)\n",
    "\n",
    "    return tree"
   ]
  },
  {
   "cell_type": "code",
   "execution_count": 10,
   "id": "c6ddb6b2-75e7-454f-966a-5332f8181c46",
   "metadata": {},
   "outputs": [
    {
     "name": "stdout",
     "output_type": "stream",
     "text": [
      "1.71 ms ± 9.1 μs per loop (mean ± std. dev. of 7 runs, 1,000 loops each)\n"
     ]
    }
   ],
   "source": [
    "%%timeit\n",
    "construct_from_treelib(tree_data)"
   ]
  },
  {
   "cell_type": "code",
   "execution_count": 11,
   "id": "271e2dc9-0030-44c8-9fdb-ab5c2fae2aed",
   "metadata": {},
   "outputs": [
    {
     "name": "stdout",
     "output_type": "stream",
     "text": [
      "learning_model_airplane\n",
      "    learning_model_airplane\n",
      "        Default\n",
      "            FRMFeatureBasedEntity1\n",
      "            PartDefinition1\n"
     ]
    }
   ],
   "source": [
    "# Preview tree\n",
    "tree_treelib = construct_from_treelib(tree_data)\n",
    "for node in tree_treelib.expand_tree(mode=Tree.DEPTH):\n",
    "    if tree_treelib.depth(node) < 4:\n",
    "        indent = \" \" * tree_treelib.level(node) * 4\n",
    "        print(f\"{indent}{tree_treelib[node].tag}\")"
   ]
  },
  {
   "cell_type": "markdown",
   "id": "d601737c-df44-46cc-9a14-033b926a27b4",
   "metadata": {},
   "source": [
    "## Closing Words\n",
    "\n",
    "While performance, such as construction speed, is important, it is essential to also consider the following aspects:\n",
    "\n",
    "### 🎨 Library Style\n",
    "\n",
    "- **API Design & Usability**: How intuitive and user-friendly is the library syntax?\n",
    "- **Flexibility**: Does the library allow attaching rich metadata, custom objects, or additional attributes to nodes?\n",
    "- **Readability & Visualisation**: How easy is it to visualise or print the tree structure?\n",
    "\n",
    "### 🧰 Use Cases\n",
    "\n",
    "- **Extensibility**: Can the library support advanced tree operations like traversal, searching, filtering, or exporting to multiple formats?\n",
    "- **Integration with other tools**: Does it integrate smoothly with popular data tools such as pandas or graph libraries? Notably, **bigtree** stands out here with strong dataframe support, which can be a decisive advantage depending on your workflow\n",
    "\n",
    "### 🔧 Maintenance & Community\n",
    "\n",
    "- **Activity & Support**: Is the library actively maintained?\n",
    "- **Documentation Quality**: Comprehensive and clear documentation is vital for onboarding new users and enabling effective use of all features"
   ]
  }
 ],
 "metadata": {
  "kernelspec": {
   "display_name": "Python 3 (ipykernel)",
   "language": "python",
   "name": "python3"
  },
  "language_info": {
   "codemirror_mode": {
    "name": "ipython",
    "version": 3
   },
   "file_extension": ".py",
   "mimetype": "text/x-python",
   "name": "python",
   "nbconvert_exporter": "python",
   "pygments_lexer": "ipython3",
   "version": "3.10.16"
  }
 },
 "nbformat": 4,
 "nbformat_minor": 5
}
